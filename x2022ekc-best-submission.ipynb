{
 "cells": [
  {
   "cell_type": "code",
   "execution_count": 1,
   "id": "b7945b53",
   "metadata": {
    "execution": {
     "iopub.execute_input": "2023-04-09T01:12:01.408089Z",
     "iopub.status.busy": "2023-04-09T01:12:01.407598Z",
     "iopub.status.idle": "2023-04-09T01:12:13.269152Z",
     "shell.execute_reply": "2023-04-09T01:12:13.267391Z"
    },
    "papermill": {
     "duration": 11.86985,
     "end_time": "2023-04-09T01:12:13.271548",
     "exception": false,
     "start_time": "2023-04-09T01:12:01.401698",
     "status": "completed"
    },
    "tags": []
   },
   "outputs": [
    {
     "name": "stdout",
     "output_type": "stream",
     "text": [
      "Collecting rdkit\r\n",
      "  Downloading rdkit-2022.9.5-cp37-cp37m-manylinux_2_17_x86_64.manylinux2014_x86_64.whl (29.2 MB)\r\n",
      "\u001b[2K     \u001b[90m━━━━━━━━━━━━━━━━━━━━━━━━━━━━━━━━━━━━━━━━\u001b[0m \u001b[32m29.2/29.2 MB\u001b[0m \u001b[31m42.8 MB/s\u001b[0m eta \u001b[36m0:00:00\u001b[0m\r\n",
      "\u001b[?25hRequirement already satisfied: Pillow in /opt/conda/lib/python3.7/site-packages (from rdkit) (9.4.0)\r\n",
      "Requirement already satisfied: numpy in /opt/conda/lib/python3.7/site-packages (from rdkit) (1.21.6)\r\n",
      "Installing collected packages: rdkit\r\n",
      "Successfully installed rdkit-2022.9.5\r\n",
      "\u001b[33mWARNING: Running pip as the 'root' user can result in broken permissions and conflicting behaviour with the system package manager. It is recommended to use a virtual environment instead: https://pip.pypa.io/warnings/venv\u001b[0m\u001b[33m\r\n",
      "\u001b[0mNote: you may need to restart the kernel to use updated packages.\n"
     ]
    }
   ],
   "source": [
    "pip install rdkit"
   ]
  },
  {
   "cell_type": "code",
   "execution_count": 2,
   "id": "263b7ff7",
   "metadata": {
    "_cell_guid": "b1076dfc-b9ad-4769-8c92-a6c4dae69d19",
    "_uuid": "8f2839f25d086af736a60e9eeb907d3b93b6e0e5",
    "execution": {
     "iopub.execute_input": "2023-04-09T01:12:13.281416Z",
     "iopub.status.busy": "2023-04-09T01:12:13.281101Z",
     "iopub.status.idle": "2023-04-09T01:12:17.057651Z",
     "shell.execute_reply": "2023-04-09T01:12:17.055976Z"
    },
    "papermill": {
     "duration": 3.784232,
     "end_time": "2023-04-09T01:12:17.059975",
     "exception": false,
     "start_time": "2023-04-09T01:12:13.275743",
     "status": "completed"
    },
    "tags": []
   },
   "outputs": [
    {
     "data": {
      "text/html": [
       "<style type='text/css'>\n",
       ".datatable table.frame { margin-bottom: 0; }\n",
       ".datatable table.frame thead { border-bottom: none; }\n",
       ".datatable table.frame tr.coltypes td {  color: #FFFFFF;  line-height: 6px;  padding: 0 0.5em;}\n",
       ".datatable .bool    { background: #DDDD99; }\n",
       ".datatable .object  { background: #565656; }\n",
       ".datatable .int     { background: #5D9E5D; }\n",
       ".datatable .float   { background: #4040CC; }\n",
       ".datatable .str     { background: #CC4040; }\n",
       ".datatable .time    { background: #40CC40; }\n",
       ".datatable .row_index {  background: var(--jp-border-color3);  border-right: 1px solid var(--jp-border-color0);  color: var(--jp-ui-font-color3);  font-size: 9px;}\n",
       ".datatable .frame tbody td { text-align: left; }\n",
       ".datatable .frame tr.coltypes .row_index {  background: var(--jp-border-color0);}\n",
       ".datatable th:nth-child(2) { padding-left: 12px; }\n",
       ".datatable .hellipsis {  color: var(--jp-cell-editor-border-color);}\n",
       ".datatable .vellipsis {  background: var(--jp-layout-color0);  color: var(--jp-cell-editor-border-color);}\n",
       ".datatable .na {  color: var(--jp-cell-editor-border-color);  font-size: 80%;}\n",
       ".datatable .sp {  opacity: 0.25;}\n",
       ".datatable .footer { font-size: 9px; }\n",
       ".datatable .frame_dimensions {  background: var(--jp-border-color3);  border-top: 1px solid var(--jp-border-color0);  color: var(--jp-ui-font-color3);  display: inline-block;  opacity: 0.6;  padding: 1px 10px 1px 5px;}\n",
       "</style>\n"
      ],
      "text/plain": [
       "<IPython.core.display.HTML object>"
      ]
     },
     "metadata": {},
     "output_type": "display_data"
    },
    {
     "name": "stdout",
     "output_type": "stream",
     "text": [
      "/kaggle/input/the-toxicity-prediction-challenge-ii/sample_submission.csv\n",
      "/kaggle/input/the-toxicity-prediction-challenge-ii/test_II.csv\n",
      "/kaggle/input/the-toxicity-prediction-challenge-ii/train_II.csv\n"
     ]
    }
   ],
   "source": [
    "#Import Necessary libraries & path\n",
    "\n",
    "import pandas as pd\n",
    "from rdkit import Chem\n",
    "from rdkit.Chem import AllChem\n",
    "from rdkit.Chem import Descriptors\n",
    "from rdkit.Chem import PandasTools\n",
    "from sklearn.ensemble import RandomForestClassifier, VotingClassifier\n",
    "from sklearn.impute import SimpleImputer\n",
    "from sklearn.feature_selection import VarianceThreshold\n",
    "from xgboost import XGBClassifier\n",
    "from sklearn.model_selection import train_test_split\n",
    "from sklearn.metrics import accuracy_score, f1_score\n",
    "from imblearn.over_sampling import SMOTE\n",
    "from lightgbm import LGBMClassifier\n",
    "\n",
    "\n",
    "import os\n",
    "for dirname, _, filenames in os.walk('/kaggle/input'):\n",
    "    for filename in filenames:\n",
    "        print(os.path.join(dirname, filename))"
   ]
  },
  {
   "cell_type": "code",
   "execution_count": 3,
   "id": "7c2e17e2",
   "metadata": {
    "execution": {
     "iopub.execute_input": "2023-04-09T01:12:17.070662Z",
     "iopub.status.busy": "2023-04-09T01:12:17.069020Z",
     "iopub.status.idle": "2023-04-09T01:12:17.077867Z",
     "shell.execute_reply": "2023-04-09T01:12:17.076968Z"
    },
    "papermill": {
     "duration": 0.015883,
     "end_time": "2023-04-09T01:12:17.079945",
     "exception": false,
     "start_time": "2023-04-09T01:12:17.064062",
     "status": "completed"
    },
    "tags": []
   },
   "outputs": [],
   "source": [
    "#Create a function that contains all the features \n",
    "def descriptors(smiles, assay_id):\n",
    "    mol = Chem.MolFromSmiles(smiles)\n",
    "    molecular_weight = Descriptors.MolWt(mol)\n",
    "    logp = Descriptors.MolLogP(mol)\n",
    "    molmr = Descriptors.MolMR(mol)\n",
    "    tpsa = Descriptors.TPSA(mol)\n",
    "    fp = AllChem.GetMorganFingerprintAsBitVect(mol, 2, nBits=1024)\n",
    "    fp_list = []\n",
    "    for i in [1, 33, 36, 64, 80, 114, 128, 147, 175, 216, 283, 294, 314, 322,\n",
    "              356, 378, 389, 392, 428, 561, 650, 656, 659, 695, 698, 726, 794,\n",
    "              807, 816, 831, 841, 849, 875, 881, 887, 893, 904, 926, 935, 1019]:\n",
    "        fp_list.append(fp[i])\n",
    "    return [molecular_weight, logp, assay_id, tpsa] + fp_list\n"
   ]
  },
  {
   "cell_type": "code",
   "execution_count": 4,
   "id": "6d7fb36e",
   "metadata": {
    "execution": {
     "iopub.execute_input": "2023-04-09T01:12:17.090628Z",
     "iopub.status.busy": "2023-04-09T01:12:17.088976Z",
     "iopub.status.idle": "2023-04-09T01:12:26.167437Z",
     "shell.execute_reply": "2023-04-09T01:12:26.166364Z"
    },
    "papermill": {
     "duration": 9.085916,
     "end_time": "2023-04-09T01:12:26.169802",
     "exception": false,
     "start_time": "2023-04-09T01:12:17.083886",
     "status": "completed"
    },
    "tags": []
   },
   "outputs": [
    {
     "name": "stderr",
     "output_type": "stream",
     "text": [
      "[01:12:18] Explicit valence for atom # 1 Si, 8, is greater than permitted\n",
      "[01:12:20] Explicit valence for atom # 1 Si, 8, is greater than permitted\n",
      "[01:12:21] Explicit valence for atom # 1 Si, 8, is greater than permitted\n",
      "[01:12:22] Explicit valence for atom # 1 Si, 8, is greater than permitted\n",
      "[01:12:23] Explicit valence for atom # 1 Si, 8, is greater than permitted\n",
      "[01:12:24] Explicit valence for atom # 1 Si, 8, is greater than permitted\n"
     ]
    }
   ],
   "source": [
    "# Load data \n",
    "train =pd.read_csv(\"/kaggle/input/the-toxicity-prediction-challenge-ii/train_II.csv\")\n",
    "test=pd.read_csv(\"/kaggle/input/the-toxicity-prediction-challenge-ii/test_II.csv\")\n",
    "\n",
    "#Split the Smiles & Assay ID\n",
    "train[['Smiles', 'Assay ID']] = train[\"Id\"].str.split(\";\", expand=True)\n",
    "test[['Smiles', 'Assay ID']] = test['x'].str.split(';', expand=True)\n",
    "\n",
    "train = train.drop(\"Id\", axis=1)\n",
    "test = test.drop(\"x\", axis=1)\n",
    "\n",
    "# Convert SMILES to RDKit Mol \n",
    "train['Mol'] = train['Smiles'].apply(Chem.MolFromSmiles)\n",
    "test['Mol'] = test['Smiles'].apply(Chem.MolFromSmiles)\n",
    "\n",
    "train = train.dropna(how='any',axis=0) \n",
    "test = test.dropna(how='any',axis=0) \n",
    "\n",
    "train['Expected'] = train['Expected'] - 1\n",
    "labels = train['Expected']\n",
    "train = train.drop(\"Expected\", axis=1)"
   ]
  },
  {
   "cell_type": "code",
   "execution_count": 5,
   "id": "0e42892c",
   "metadata": {
    "execution": {
     "iopub.execute_input": "2023-04-09T01:12:26.180070Z",
     "iopub.status.busy": "2023-04-09T01:12:26.179328Z",
     "iopub.status.idle": "2023-04-09T01:13:32.821790Z",
     "shell.execute_reply": "2023-04-09T01:13:32.820730Z"
    },
    "papermill": {
     "duration": 66.650311,
     "end_time": "2023-04-09T01:13:32.824444",
     "exception": false,
     "start_time": "2023-04-09T01:12:26.174133",
     "status": "completed"
    },
    "tags": []
   },
   "outputs": [],
   "source": [
    "# Apply features to the train data\n",
    "\n",
    "train[['Molecular Weight', 'logp', 'Assay ID', 'tpsa', 'fp_1', 'fp_33', 'fp_36',\n",
    "       'fp_64', 'fp_80', 'fp_114', 'fp_128', 'fp_147', 'fp_175', 'fp_216',\n",
    "       'fp_283', 'fp_294', 'fp_314', 'fp_322', 'fp_356', 'fp_378', 'fp_389',\n",
    "       'fp_392', 'fp_428', 'fp_561', 'fp_650', 'fp_656', 'fp_659', 'fp_695',\n",
    "       'fp_698', 'fp_726', 'fp_794', 'fp_807', 'fp_816', 'fp_831', 'fp_841',\n",
    "       'fp_849', 'fp_875', 'fp_881', 'fp_887', 'fp_893', 'fp_904', 'fp_926',\n",
    "       'fp_935', 'fp_1019']] = train.apply(lambda row: pd.Series(descriptors(row['Smiles'], row['Assay ID'])), axis=1)"
   ]
  },
  {
   "cell_type": "code",
   "execution_count": 6,
   "id": "0bbb7dfa",
   "metadata": {
    "execution": {
     "iopub.execute_input": "2023-04-09T01:13:32.834542Z",
     "iopub.status.busy": "2023-04-09T01:13:32.834241Z",
     "iopub.status.idle": "2023-04-09T01:13:41.551787Z",
     "shell.execute_reply": "2023-04-09T01:13:41.550772Z"
    },
    "papermill": {
     "duration": 8.725865,
     "end_time": "2023-04-09T01:13:41.554733",
     "exception": false,
     "start_time": "2023-04-09T01:13:32.828868",
     "status": "completed"
    },
    "tags": []
   },
   "outputs": [],
   "source": [
    "# Apply features to the test data\n",
    "\n",
    "test[['Molecular Weight', 'logp', 'Assay ID', 'tpsa', 'fp_1', 'fp_33', 'fp_36',\n",
    "       'fp_64', 'fp_80', 'fp_114', 'fp_128', 'fp_147', 'fp_175', 'fp_216',\n",
    "       'fp_283', 'fp_294', 'fp_314', 'fp_322', 'fp_356', 'fp_378', 'fp_389',\n",
    "       'fp_392', 'fp_428', 'fp_561', 'fp_650', 'fp_656', 'fp_659', 'fp_695',\n",
    "       'fp_698', 'fp_726', 'fp_794', 'fp_807', 'fp_816', 'fp_831', 'fp_841',\n",
    "       'fp_849', 'fp_875', 'fp_881', 'fp_887', 'fp_893', 'fp_904', 'fp_926',\n",
    "       'fp_935', 'fp_1019']] = test.apply(lambda row: pd.Series(descriptors(row['Smiles'], row['Assay ID'])), axis=1)"
   ]
  },
  {
   "cell_type": "code",
   "execution_count": 7,
   "id": "7371279e",
   "metadata": {
    "execution": {
     "iopub.execute_input": "2023-04-09T01:13:41.564845Z",
     "iopub.status.busy": "2023-04-09T01:13:41.564534Z",
     "iopub.status.idle": "2023-04-09T01:13:42.916459Z",
     "shell.execute_reply": "2023-04-09T01:13:42.915409Z"
    },
    "papermill": {
     "duration": 1.360006,
     "end_time": "2023-04-09T01:13:42.919169",
     "exception": false,
     "start_time": "2023-04-09T01:13:41.559163",
     "status": "completed"
    },
    "tags": []
   },
   "outputs": [],
   "source": [
    "# Drop the unnecessary columns\n",
    "\n",
    "train = train.drop([\"Smiles\", \"Mol\"], axis=1)\n",
    "test = test.drop([\"Smiles\", \"Mol\"], axis=1)"
   ]
  },
  {
   "cell_type": "code",
   "execution_count": 8,
   "id": "0b288c98",
   "metadata": {
    "execution": {
     "iopub.execute_input": "2023-04-09T01:13:42.929019Z",
     "iopub.status.busy": "2023-04-09T01:13:42.928694Z",
     "iopub.status.idle": "2023-04-09T01:13:43.474909Z",
     "shell.execute_reply": "2023-04-09T01:13:43.473896Z"
    },
    "papermill": {
     "duration": 0.553946,
     "end_time": "2023-04-09T01:13:43.477405",
     "exception": false,
     "start_time": "2023-04-09T01:13:42.923459",
     "status": "completed"
    },
    "tags": []
   },
   "outputs": [],
   "source": [
    "# Using Imputer to fix any broken input columns\n",
    "\n",
    "imputer = SimpleImputer(strategy='mean')\n",
    "train = pd.DataFrame(imputer.fit_transform(train), columns=train.columns)\n",
    "test = pd.DataFrame(imputer.transform(test), columns=test.columns)"
   ]
  },
  {
   "cell_type": "code",
   "execution_count": 9,
   "id": "9d17a527",
   "metadata": {
    "execution": {
     "iopub.execute_input": "2023-04-09T01:13:43.487366Z",
     "iopub.status.busy": "2023-04-09T01:13:43.487056Z",
     "iopub.status.idle": "2023-04-09T01:13:43.493330Z",
     "shell.execute_reply": "2023-04-09T01:13:43.492279Z"
    },
    "papermill": {
     "duration": 0.013515,
     "end_time": "2023-04-09T01:13:43.495334",
     "exception": false,
     "start_time": "2023-04-09T01:13:43.481819",
     "status": "completed"
    },
    "tags": []
   },
   "outputs": [],
   "source": [
    "# Define the different xgb and rf models with their respective hyperparameters\n",
    "xgb_model1 = XGBClassifier(n_estimators=800, max_depth=8, random_state=0, scale_pos_weight=0.6)\n",
    "xgb_model3 = XGBClassifier(n_estimators=500, max_depth=8, random_state=0, scale_pos_weight=0.6)\n",
    "lgb_model = LGBMClassifier(n_estimators=800, max_depth=8, random_state=0, scale_pos_weight=0.6)\n",
    "rf_model1 = RandomForestClassifier(n_estimators=350, random_state=0)\n",
    "\n",
    "# Create a voting classifier with the different models\n",
    "ensemble_clf = VotingClassifier(estimators=[('lgb', lgb_model), ('xgb1', xgb_model1), \n",
    "                                            ('rf1', rf_model1), ('xgb3', xgb_model3)], voting='hard')\n"
   ]
  },
  {
   "cell_type": "code",
   "execution_count": 10,
   "id": "6de65a61",
   "metadata": {
    "execution": {
     "iopub.execute_input": "2023-04-09T01:13:43.505177Z",
     "iopub.status.busy": "2023-04-09T01:13:43.504299Z",
     "iopub.status.idle": "2023-04-09T01:17:54.741671Z",
     "shell.execute_reply": "2023-04-09T01:17:54.740336Z"
    },
    "papermill": {
     "duration": 251.245069,
     "end_time": "2023-04-09T01:17:54.744393",
     "exception": false,
     "start_time": "2023-04-09T01:13:43.499324",
     "status": "completed"
    },
    "tags": []
   },
   "outputs": [],
   "source": [
    "# Fit the ensemble classifier to the training data\n",
    "ensemble_clf.fit(train, labels)\n",
    "\n",
    "# Make predictions on the test data\n",
    "predictions = ensemble_clf.predict(test)"
   ]
  },
  {
   "cell_type": "code",
   "execution_count": 11,
   "id": "22987e75",
   "metadata": {
    "execution": {
     "iopub.execute_input": "2023-04-09T01:17:54.754669Z",
     "iopub.status.busy": "2023-04-09T01:17:54.754355Z",
     "iopub.status.idle": "2023-04-09T01:17:54.759652Z",
     "shell.execute_reply": "2023-04-09T01:17:54.758960Z"
    },
    "papermill": {
     "duration": 0.012685,
     "end_time": "2023-04-09T01:17:54.761586",
     "exception": false,
     "start_time": "2023-04-09T01:17:54.748901",
     "status": "completed"
    },
    "tags": []
   },
   "outputs": [],
   "source": [
    "# To fit the requirements of the submission file\n",
    "predictions = predictions + 1"
   ]
  },
  {
   "cell_type": "code",
   "execution_count": 12,
   "id": "36033c0e",
   "metadata": {
    "execution": {
     "iopub.execute_input": "2023-04-09T01:17:54.771298Z",
     "iopub.status.busy": "2023-04-09T01:17:54.770989Z",
     "iopub.status.idle": "2023-04-09T01:17:54.805580Z",
     "shell.execute_reply": "2023-04-09T01:17:54.804393Z"
    },
    "papermill": {
     "duration": 0.042495,
     "end_time": "2023-04-09T01:17:54.808392",
     "exception": false,
     "start_time": "2023-04-09T01:17:54.765897",
     "status": "completed"
    },
    "tags": []
   },
   "outputs": [
    {
     "name": "stdout",
     "output_type": "stream",
     "text": [
      "Your submission was successfully saved!\n"
     ]
    }
   ],
   "source": [
    "# Create the submission file\n",
    "test_data=pd.read_csv(\"/kaggle/input/the-toxicity-prediction-challenge-ii/test_II.csv\")\n",
    "output = pd.DataFrame({'Id': test_data['x'], 'Predicted': predictions})\n",
    "output.to_csv('submission.csv', index=False)\n",
    "print(\"Your submission was successfully saved!\")"
   ]
  }
 ],
 "metadata": {
  "kernelspec": {
   "display_name": "Python 3",
   "language": "python",
   "name": "python3"
  },
  "language_info": {
   "codemirror_mode": {
    "name": "ipython",
    "version": 3
   },
   "file_extension": ".py",
   "mimetype": "text/x-python",
   "name": "python",
   "nbconvert_exporter": "python",
   "pygments_lexer": "ipython3",
   "version": "3.7.12"
  },
  "papermill": {
   "default_parameters": {},
   "duration": 364.597398,
   "end_time": "2023-04-09T01:17:56.337221",
   "environment_variables": {},
   "exception": null,
   "input_path": "__notebook__.ipynb",
   "output_path": "__notebook__.ipynb",
   "parameters": {},
   "start_time": "2023-04-09T01:11:51.739823",
   "version": "2.4.0"
  }
 },
 "nbformat": 4,
 "nbformat_minor": 5
}
